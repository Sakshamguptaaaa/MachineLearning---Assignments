{
 "cells": [
  {
   "cell_type": "code",
   "execution_count": 2,
   "id": "c3375f3a",
   "metadata": {},
   "outputs": [
    {
     "data": {
      "text/plain": [
       "array([5, 4, 6, 3, 2, 1])"
      ]
     },
     "execution_count": 2,
     "metadata": {},
     "output_type": "execute_result"
    }
   ],
   "source": [
    "import numpy as np\n",
    "arr = np.array([1, 2, 3, 6, 4, 5])\n",
    "arr[::-1]"
   ]
  },
  {
   "cell_type": "code",
   "execution_count": 8,
   "id": "a750955d",
   "metadata": {},
   "outputs": [
    {
     "data": {
      "text/plain": [
       "array([1, 2, 3, 2, 4, 5, 1, 2, 3])"
      ]
     },
     "execution_count": 8,
     "metadata": {},
     "output_type": "execute_result"
    }
   ],
   "source": [
    "arr = np.array([[1, 2, 3], [2, 4, 5], [1, 2, 3]])\n",
    "arr.flatten()"
   ]
  },
  {
   "cell_type": "code",
   "execution_count": 15,
   "id": "2b363c2e",
   "metadata": {},
   "outputs": [
    {
     "name": "stdout",
     "output_type": "stream",
     "text": [
      "[[ True  True]\n",
      " [ True  True]]\n"
     ]
    }
   ],
   "source": [
    "arr1 = np.array([[1, 2], [3, 4]])\n",
    "arr2 = np.array([[1, 2], [3, 4]])\n",
    "print(arr1==arr2)"
   ]
  },
  {
   "cell_type": "code",
   "execution_count": 42,
   "id": "eaf15d97",
   "metadata": {},
   "outputs": [
    {
     "data": {
      "text/plain": [
       "(1, (array([0, 5, 7, 8, 9], dtype=int64),))"
      ]
     },
     "execution_count": 42,
     "metadata": {},
     "output_type": "execute_result"
    }
   ],
   "source": [
    "#unique, argmax, where\n",
    "x = np.array([1, 2, 3, 4, 5, 1, 2, 1, 1, 1])\n",
    "values, counts = np.unique(x, return_counts = True)\n",
    "most_frequent_value = values[np.argmax(counts)]\n",
    "indices = np.where(x == most_frequent_value)\n",
    "most_frequent_value, indices\n"
   ]
  },
  {
   "cell_type": "code",
   "execution_count": 43,
   "id": "e88232f3",
   "metadata": {},
   "outputs": [
    {
     "data": {
      "text/plain": [
       "(1, (array([0, 1, 2], dtype=int64),))"
      ]
     },
     "execution_count": 43,
     "metadata": {},
     "output_type": "execute_result"
    }
   ],
   "source": [
    "y = np.array([1, 1, 1, 2, 3, 4, 2, 4, 3, 3])\n",
    "values, counts = np.unique(y, return_counts = True)\n",
    "most_frequent_value = values[np.argmax(counts)]\n",
    "indices = np.where(y == most_frequent_value)\n",
    "most_frequent_value, indices"
   ]
  },
  {
   "cell_type": "code",
   "execution_count": 54,
   "id": "dbbcbe67",
   "metadata": {},
   "outputs": [
    {
     "name": "stdout",
     "output_type": "stream",
     "text": [
      "45\n",
      "[[14]\n",
      " [16]\n",
      " [15]]\n",
      "[[20  9 16]]\n"
     ]
    }
   ],
   "source": [
    "gfg = np.matrix('[4, 1, 9; 12, 3, 1; 4, 5, 6]')\n",
    "print(np.sum(gfg))\n",
    "print(np.sum(gfg, 1))\n",
    "print(np.sum(gfg, 0))"
   ]
  },
  {
   "cell_type": "code",
   "execution_count": 65,
   "id": "74d6ac42",
   "metadata": {},
   "outputs": [
    {
     "name": "stdout",
     "output_type": "stream",
     "text": [
      "176\n",
      "(array([98.16835147, 28.097044  , 49.73460452]), array([[ 0.4574917 ,  0.34637121, -0.15017693],\n",
      "       [ 0.28447814, -0.72784061, -0.4852124 ],\n",
      "       [ 0.84248058,  0.59184038,  0.8614034 ]]))\n",
      "[[ 0.02404141 -0.00911212 -0.00444671]\n",
      " [-0.01667882  0.02966905  0.0024785 ]\n",
      " [ 0.00631287 -0.01603732  0.01217379]]\n",
      "137180.0000000001\n"
     ]
    }
   ],
   "source": [
    "n_array = np.array([[55, 25, 15], [30, 44, 2], [11, 45, 77]])\n",
    "diagonals = np.diagonal(n_array)\n",
    "print(np.sum(diagonals))\n",
    "print(np.linalg.eig(n_array))\n",
    "print(np.linalg.inv(n_array))\n",
    "print(np.linalg.det(n_array))"
   ]
  },
  {
   "cell_type": "code",
   "execution_count": 75,
   "id": "2658b545",
   "metadata": {},
   "outputs": [
    {
     "name": "stdout",
     "output_type": "stream",
     "text": [
      "[[16 19]\n",
      " [26 31]]\n"
     ]
    },
    {
     "data": {
      "text/plain": [
       "array([[0.5, 0.5, 0.5, 0.5],\n",
       "       [0.5, 0.5, 0.5, 0.5],\n",
       "       [0.5, 0.5, 0.5, 0.5],\n",
       "       [0.5, 0.5, 0.5, 0.5]])"
      ]
     },
     "execution_count": 75,
     "metadata": {},
     "output_type": "execute_result"
    }
   ],
   "source": [
    "p = np.array([[1, 2], [2, 3]])\n",
    "q = np.array([[4, 5], [6, 7]])\n",
    "print(np.dot(p, q)) # p@q also works\n",
    "np.cov(p, q)"
   ]
  },
  {
   "cell_type": "code",
   "execution_count": 80,
   "id": "1b702034",
   "metadata": {},
   "outputs": [
    {
     "name": "stdout",
     "output_type": "stream",
     "text": [
      "[[16 19  5]\n",
      " [26 31  8]\n",
      " [46 55 14]]\n",
      "[[2.16666667 0.23333333]\n",
      " [0.23333333 5.36666667]]\n"
     ]
    }
   ],
   "source": [
    "p = np.array([[1, 2], [2, 3], [4, 5]])\n",
    "q = np.array([[4, 5, 1], [6, 7, 2]])\n",
    "print(p@q)\n",
    "p = p.flatten()\n",
    "q = q.flatten()\n",
    "print(np.cov(p, q))"
   ]
  },
  {
   "cell_type": "code",
   "execution_count": 85,
   "id": "b7a91c7e",
   "metadata": {},
   "outputs": [
    {
     "name": "stdout",
     "output_type": "stream",
     "text": [
      "[[17 52]\n",
      " [13 62]]\n",
      "[[ 2 10  0 10 20  6]\n",
      " [ 3 15  0 15 30  9]\n",
      " [ 4 20  0 20 40 12]\n",
      " [ 3 15  0 15 30  9]\n",
      " [ 2 10  0 10 20  6]\n",
      " [ 9 45  0 45 90 27]]\n"
     ]
    }
   ],
   "source": [
    "x = np.array([[2, 3, 4], [3, 2, 9]])\n",
    "y = np.array([[1, 5, 0], [5, 10, 3]])\n",
    "print(np.inner(x, y))\n",
    "print(np.outer(x, y))\n",
    "X, Y = np.meshgrid(x.flatten(), y.flatten())\n",
    "cartesian = np.vstack([X.ravel(), Y.ravel()]).T"
   ]
  },
  {
   "cell_type": "code",
   "execution_count": 102,
   "id": "69dddc77",
   "metadata": {},
   "outputs": [
    {
     "name": "stdout",
     "output_type": "stream",
     "text": [
      "[[1 2 3]\n",
      " [4 5 6]]\n",
      "[-3.5 -0.5  2.5]\n",
      "[[-0.5 -5. ]\n",
      " [ 1.  -4. ]\n",
      " [ 2.   0.5]]\n",
      "[[-2.75 -0.25 -3.75]\n",
      " [-1.5   1.5  -1.5 ]\n",
      " [-0.25  3.25  0.75]]\n",
      "-0.5\n",
      "-0.5\n",
      "3.8622100754188224\n",
      "[ 0.66666667 -1.66666667]\n",
      "[-1.5  1.5 -1.5]\n",
      "[ 1. -4.]\n",
      "[-1.5  1.5 -1.5]\n",
      "[2.05480467 4.78423336]\n",
      "[2.5 3.5 4.5]\n"
     ]
    }
   ],
   "source": [
    "array = np.array([[1, -2, 3], [-4, 5, -6]])\n",
    "print(abs(array))\n",
    "\n",
    "print(np.percentile(array.flatten(), [25, 50, 75]))\n",
    "print(np.percentile(array, [25, 50, 75], axis = 1))\n",
    "print(np.percentile(array, [25, 50, 75], axis = 0))\n",
    "\n",
    "print(np.mean(array.flatten()))\n",
    "print(np.median(array.flatten()))\n",
    "print(np.std(array.flatten()))\n",
    "\n",
    "print(np.mean(array, axis = 1))\n",
    "print(np.mean(array, axis = 0))\n",
    "\n",
    "print(np.median(array, axis = 1))\n",
    "print(np.median(array, axis = 0))\n",
    "\n",
    "print(np.std(array, axis = 1))\n",
    "print(np.std(array, axis = 0))"
   ]
  },
  {
   "cell_type": "code",
   "execution_count": 105,
   "id": "7e8e77bf",
   "metadata": {},
   "outputs": [
    {
     "name": "stdout",
     "output_type": "stream",
     "text": [
      "[-2. -2. -1.  0.  1.  1.  3.]\n",
      "[-1. -1. -0.  1.  2.  2.  3.]\n",
      "[-1. -1. -0.  0.  1.  1.  3.]\n",
      "[-2. -2. -0.  0.  2.  2.  3.]\n"
     ]
    }
   ],
   "source": [
    "a = np.array([-1.8, -1.6, -0.5, 0.5, 1.6, 1.8, 3.0])\n",
    "print(np.floor(a))\n",
    "print(np.ceil(a))\n",
    "print(np.trunc(a))\n",
    "print(np.round(a))"
   ]
  },
  {
   "cell_type": "code",
   "execution_count": 118,
   "id": "1220ebd0",
   "metadata": {},
   "outputs": [
    {
     "name": "stdout",
     "output_type": "stream",
     "text": [
      "[ 10  16  16  52  54  62 453]\n",
      "[0 3 4 1 5 2 6]\n",
      "[10 16 16 52]\n",
      "[ 16  52  54  62 453]\n"
     ]
    }
   ],
   "source": [
    "array = np.array([10, 52, 62, 16, 16, 54, 453])\n",
    "sorted_array = np.sort(array)\n",
    "print(np.sort(array))\n",
    "print(np.argsort(array))\n",
    "print(sorted_array[0:4])\n",
    "print(sorted_array[-5:])\n"
   ]
  },
  {
   "cell_type": "code",
   "execution_count": 16,
   "id": "5a82fe81",
   "metadata": {},
   "outputs": [
    {
     "name": "stdout",
     "output_type": "stream",
     "text": [
      "[1. 2. 3. 2.]\n",
      "[1.2 2.2]\n"
     ]
    }
   ],
   "source": [
    "array = np.array([1.0, 1.2, 2.2, 2.0, 3.0, 2.0])\n",
    "print(array[array%1 == 0])\n",
    "print(array[array%1 != 0])"
   ]
  },
  {
   "cell_type": "code",
   "execution_count": 6,
   "id": "99ba2b27-66d2-4c93-8b3e-ae20221afb27",
   "metadata": {},
   "outputs": [],
   "source": [
    "from PIL import Image\n",
    "\n",
    "def img_to_array(path):\n",
    "    img = Image.open(path)\n",
    "    img_array = np.array(img)\n",
    "\n",
    "    if len(img_array.shape) == 3:\n",
    "        print(\"Image is RGB\")\n",
    "        np.savetxt(\"img_rgb.txt\", img_array.reshape(-1, img_array.shape[-1]), fmt = \"%d\")\n",
    "    elif len(img_array.shape) == 2:\n",
    "        print(\"Image is Greyscale\")\n",
    "        np.savetxt(\"img_greyscale.txt\", img_array, fmt = \"%d\")\n",
    "    else:\n",
    "        raise ValueError(\"Unsupported image format\")\n",
    "    print(\"Image saved successfully\")\n",
    "        "
   ]
  },
  {
   "cell_type": "code",
   "execution_count": null,
   "id": "1a7b6ac6-a082-4d34-a2b9-d85bb34761cb",
   "metadata": {},
   "outputs": [],
   "source": [
    "greyscale_array = np.loadtxt(\"img_greyscale.txt\", dtype = np.uint8) \n",
    "rgb_array = np.loadtxt(\"img_rgb.txt\", dtype = np.uint8)"
   ]
  },
  {
   "cell_type": "code",
   "execution_count": null,
   "id": "47a4d31a-dc11-48e4-b2df-20fca0951e57",
   "metadata": {},
   "outputs": [],
   "source": []
  }
 ],
 "metadata": {
  "kernelspec": {
   "display_name": "Python 3 (ipykernel)",
   "language": "python",
   "name": "python3"
  },
  "language_info": {
   "codemirror_mode": {
    "name": "ipython",
    "version": 3
   },
   "file_extension": ".py",
   "mimetype": "text/x-python",
   "name": "python",
   "nbconvert_exporter": "python",
   "pygments_lexer": "ipython3",
   "version": "3.13.5"
  }
 },
 "nbformat": 4,
 "nbformat_minor": 5
}
